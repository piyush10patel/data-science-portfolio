{
 "cells": [
  {
   "cell_type": "code",
   "execution_count": 18,
   "metadata": {},
   "outputs": [],
   "source": [
    "import numpy as np\n",
    "import pandas as pd\n",
    "import matplotlib.pyplot as plt\n",
    "from sklearn.preprocessing import LabelEncoder\n",
    "from sklearn.model_selection import train_test_split\n",
    "from sklearn.tree import DecisionTreeClassifier\n",
    "from sklearn.naive_bayes import GaussianNB\n",
    "from sklearn.metrics import accuracy_score\n",
    "from sklearn.model_selection import StratifiedKFold\n",
    "from sklearn.model_selection import cross_val_score\n",
    "from sklearn.tree import export_text\n",
    "from  PyILP.PyILP import *\n",
    "import warnings\n",
    "warnings.filterwarnings('ignore')\n",
    "from pyswip import Prolog, Variable, Functor"
   ]
  },
  {
   "cell_type": "code",
   "execution_count": 19,
   "metadata": {},
   "outputs": [],
   "source": [
    "df = pd.read_csv(\"Mutagen_Num.CSV\")"
   ]
  },
  {
   "cell_type": "code",
   "execution_count": 20,
   "metadata": {},
   "outputs": [
    {
     "data": {
      "text/html": [
       "<div>\n",
       "<style scoped>\n",
       "    .dataframe tbody tr th:only-of-type {\n",
       "        vertical-align: middle;\n",
       "    }\n",
       "\n",
       "    .dataframe tbody tr th {\n",
       "        vertical-align: top;\n",
       "    }\n",
       "\n",
       "    .dataframe thead th {\n",
       "        text-align: right;\n",
       "    }\n",
       "</style>\n",
       "<table border=\"1\" class=\"dataframe\">\n",
       "  <thead>\n",
       "    <tr style=\"text-align: right;\">\n",
       "      <th></th>\n",
       "      <th>Name</th>\n",
       "      <th>ind1</th>\n",
       "      <th>inda</th>\n",
       "      <th>logp</th>\n",
       "      <th>lumo</th>\n",
       "      <th>status</th>\n",
       "    </tr>\n",
       "  </thead>\n",
       "  <tbody>\n",
       "    <tr>\n",
       "      <th>0</th>\n",
       "      <td>d112</td>\n",
       "      <td>1.0</td>\n",
       "      <td>0.0</td>\n",
       "      <td>3.81</td>\n",
       "      <td>-1.208</td>\n",
       "      <td>active</td>\n",
       "    </tr>\n",
       "    <tr>\n",
       "      <th>1</th>\n",
       "      <td>d20</td>\n",
       "      <td>1.0</td>\n",
       "      <td>0.0</td>\n",
       "      <td>3.4</td>\n",
       "      <td>-1.764</td>\n",
       "      <td>active</td>\n",
       "    </tr>\n",
       "    <tr>\n",
       "      <th>2</th>\n",
       "      <td>d109</td>\n",
       "      <td>1.0</td>\n",
       "      <td>0.0</td>\n",
       "      <td>6.07</td>\n",
       "      <td>-2.284</td>\n",
       "      <td>active</td>\n",
       "    </tr>\n",
       "    <tr>\n",
       "      <th>3</th>\n",
       "      <td>d25</td>\n",
       "      <td>1.0</td>\n",
       "      <td>0.0</td>\n",
       "      <td>3.43</td>\n",
       "      <td>-1.398</td>\n",
       "      <td>active</td>\n",
       "    </tr>\n",
       "    <tr>\n",
       "      <th>4</th>\n",
       "      <td>d26</td>\n",
       "      <td>0.0</td>\n",
       "      <td>0.0</td>\n",
       "      <td>2.17</td>\n",
       "      <td>-2.072</td>\n",
       "      <td>active</td>\n",
       "    </tr>\n",
       "  </tbody>\n",
       "</table>\n",
       "</div>"
      ],
      "text/plain": [
       "   Name  ind1  inda   logp     lumo   status\n",
       "0  d112   1.0   0.0   3.81   -1.208   active\n",
       "1   d20   1.0   0.0    3.4   -1.764   active\n",
       "2  d109   1.0   0.0   6.07   -2.284   active\n",
       "3   d25   1.0   0.0   3.43   -1.398   active\n",
       "4   d26   0.0   0.0   2.17   -2.072   active"
      ]
     },
     "execution_count": 20,
     "metadata": {},
     "output_type": "execute_result"
    }
   ],
   "source": [
    "df.head()"
   ]
  },
  {
   "cell_type": "code",
   "execution_count": 21,
   "metadata": {},
   "outputs": [
    {
     "data": {
      "text/plain": [
       "Index(['Name', 'ind1', 'inda', 'logp', 'lumo', 'status'], dtype='object')"
      ]
     },
     "execution_count": 21,
     "metadata": {},
     "output_type": "execute_result"
    }
   ],
   "source": [
    "df.columns"
   ]
  },
  {
   "cell_type": "code",
   "execution_count": 22,
   "metadata": {},
   "outputs": [],
   "source": [
    "df1 = df.drop(columns=['Name'])"
   ]
  },
  {
   "cell_type": "code",
   "execution_count": 23,
   "metadata": {},
   "outputs": [
    {
     "data": {
      "text/html": [
       "<div>\n",
       "<style scoped>\n",
       "    .dataframe tbody tr th:only-of-type {\n",
       "        vertical-align: middle;\n",
       "    }\n",
       "\n",
       "    .dataframe tbody tr th {\n",
       "        vertical-align: top;\n",
       "    }\n",
       "\n",
       "    .dataframe thead th {\n",
       "        text-align: right;\n",
       "    }\n",
       "</style>\n",
       "<table border=\"1\" class=\"dataframe\">\n",
       "  <thead>\n",
       "    <tr style=\"text-align: right;\">\n",
       "      <th></th>\n",
       "      <th>ind1</th>\n",
       "      <th>inda</th>\n",
       "      <th>logp</th>\n",
       "      <th>lumo</th>\n",
       "      <th>status</th>\n",
       "    </tr>\n",
       "  </thead>\n",
       "  <tbody>\n",
       "    <tr>\n",
       "      <th>0</th>\n",
       "      <td>1.0</td>\n",
       "      <td>0.0</td>\n",
       "      <td>3.81</td>\n",
       "      <td>-1.208</td>\n",
       "      <td>active</td>\n",
       "    </tr>\n",
       "    <tr>\n",
       "      <th>1</th>\n",
       "      <td>1.0</td>\n",
       "      <td>0.0</td>\n",
       "      <td>3.4</td>\n",
       "      <td>-1.764</td>\n",
       "      <td>active</td>\n",
       "    </tr>\n",
       "    <tr>\n",
       "      <th>2</th>\n",
       "      <td>1.0</td>\n",
       "      <td>0.0</td>\n",
       "      <td>6.07</td>\n",
       "      <td>-2.284</td>\n",
       "      <td>active</td>\n",
       "    </tr>\n",
       "    <tr>\n",
       "      <th>3</th>\n",
       "      <td>1.0</td>\n",
       "      <td>0.0</td>\n",
       "      <td>3.43</td>\n",
       "      <td>-1.398</td>\n",
       "      <td>active</td>\n",
       "    </tr>\n",
       "    <tr>\n",
       "      <th>4</th>\n",
       "      <td>0.0</td>\n",
       "      <td>0.0</td>\n",
       "      <td>2.17</td>\n",
       "      <td>-2.072</td>\n",
       "      <td>active</td>\n",
       "    </tr>\n",
       "  </tbody>\n",
       "</table>\n",
       "</div>"
      ],
      "text/plain": [
       "   ind1  inda   logp     lumo   status\n",
       "0   1.0   0.0   3.81   -1.208   active\n",
       "1   1.0   0.0    3.4   -1.764   active\n",
       "2   1.0   0.0   6.07   -2.284   active\n",
       "3   1.0   0.0   3.43   -1.398   active\n",
       "4   0.0   0.0   2.17   -2.072   active"
      ]
     },
     "execution_count": 23,
     "metadata": {},
     "output_type": "execute_result"
    }
   ],
   "source": [
    "df1.head()"
   ]
  },
  {
   "cell_type": "code",
   "execution_count": 24,
   "metadata": {},
   "outputs": [],
   "source": [
    "le = LabelEncoder()\n",
    "df1['status']=le.fit_transform(df1['status'])"
   ]
  },
  {
   "cell_type": "code",
   "execution_count": 26,
   "metadata": {},
   "outputs": [
    {
     "data": {
      "text/html": [
       "<div>\n",
       "<style scoped>\n",
       "    .dataframe tbody tr th:only-of-type {\n",
       "        vertical-align: middle;\n",
       "    }\n",
       "\n",
       "    .dataframe tbody tr th {\n",
       "        vertical-align: top;\n",
       "    }\n",
       "\n",
       "    .dataframe thead th {\n",
       "        text-align: right;\n",
       "    }\n",
       "</style>\n",
       "<table border=\"1\" class=\"dataframe\">\n",
       "  <thead>\n",
       "    <tr style=\"text-align: right;\">\n",
       "      <th></th>\n",
       "      <th>ind1</th>\n",
       "      <th>inda</th>\n",
       "      <th>logp</th>\n",
       "      <th>lumo</th>\n",
       "      <th>status</th>\n",
       "    </tr>\n",
       "  </thead>\n",
       "  <tbody>\n",
       "    <tr>\n",
       "      <th>0</th>\n",
       "      <td>1.0</td>\n",
       "      <td>0.0</td>\n",
       "      <td>3.81</td>\n",
       "      <td>-1.208</td>\n",
       "      <td>0</td>\n",
       "    </tr>\n",
       "    <tr>\n",
       "      <th>1</th>\n",
       "      <td>1.0</td>\n",
       "      <td>0.0</td>\n",
       "      <td>3.4</td>\n",
       "      <td>-1.764</td>\n",
       "      <td>0</td>\n",
       "    </tr>\n",
       "    <tr>\n",
       "      <th>2</th>\n",
       "      <td>1.0</td>\n",
       "      <td>0.0</td>\n",
       "      <td>6.07</td>\n",
       "      <td>-2.284</td>\n",
       "      <td>0</td>\n",
       "    </tr>\n",
       "    <tr>\n",
       "      <th>3</th>\n",
       "      <td>1.0</td>\n",
       "      <td>0.0</td>\n",
       "      <td>3.43</td>\n",
       "      <td>-1.398</td>\n",
       "      <td>0</td>\n",
       "    </tr>\n",
       "    <tr>\n",
       "      <th>4</th>\n",
       "      <td>0.0</td>\n",
       "      <td>0.0</td>\n",
       "      <td>2.17</td>\n",
       "      <td>-2.072</td>\n",
       "      <td>0</td>\n",
       "    </tr>\n",
       "  </tbody>\n",
       "</table>\n",
       "</div>"
      ],
      "text/plain": [
       "   ind1  inda   logp     lumo  status\n",
       "0   1.0   0.0   3.81   -1.208       0\n",
       "1   1.0   0.0    3.4   -1.764       0\n",
       "2   1.0   0.0   6.07   -2.284       0\n",
       "3   1.0   0.0   3.43   -1.398       0\n",
       "4   0.0   0.0   2.17   -2.072       0"
      ]
     },
     "execution_count": 26,
     "metadata": {},
     "output_type": "execute_result"
    }
   ],
   "source": [
    "df1.head()"
   ]
  },
  {
   "cell_type": "code",
   "execution_count": 27,
   "metadata": {},
   "outputs": [
    {
     "data": {
      "text/plain": [
       "0    125\n",
       "1     63\n",
       "Name: status, dtype: int64"
      ]
     },
     "execution_count": 27,
     "metadata": {},
     "output_type": "execute_result"
    }
   ],
   "source": [
    "df1['status'].value_counts()"
   ]
  },
  {
   "cell_type": "code",
   "execution_count": 28,
   "metadata": {},
   "outputs": [
    {
     "data": {
      "image/png": "[encoded data removed]",
      "text/plain": [
       "<Figure size 432x288 with 1 Axes>"
      ]
     },
     "metadata": {
      "needs_background": "light"
     },
     "output_type": "display_data"
    }
   ],
   "source": [
    "status_counts = df1['status'].value_counts()\n",
    "plt.bar(['0', '1'], status_counts.values)\n",
    "plt.xlabel(\"No.of labels\")\n",
    "plt.ylabel(\"Count\")\n",
    "plt.title(\"Status\")\n",
    "\n",
    "plt.show()"
   ]
  },
  {
   "cell_type": "code",
   "execution_count": 29,
   "metadata": {},
   "outputs": [],
   "source": [
    "X=df1.drop(columns=['status'])\n",
    "y = df1['status']"
   ]
  },
  {
   "cell_type": "code",
   "execution_count": 30,
   "metadata": {},
   "outputs": [
    {
     "name": "stdout",
     "output_type": "stream",
     "text": [
      "Accuracy on training data:  1.0\n",
      "Accuracy on the testing data:  0.9298245614035088\n"
     ]
    }
   ],
   "source": [
    "Col_List =  list(X.columns)\n",
    "X_train, X_test, y_train, y_test = train_test_split(X, y, random_state = 42, test_size = 0.3)\n",
    "DesT = DecisionTreeClassifier(criterion = 'entropy')\n",
    "DesT.fit(X_train, y_train)\n",
    "y_pred =  DesT.predict(X_test)\n",
    "print('Accuracy on training data: ', accuracy_score(y_true=y_train, y_pred=DesT.predict(X_train)))\n",
    "print('Accuracy on the testing data: ', accuracy_score(y_true=y_test, y_pred=DesT.predict(X_test)))"
   ]
  },
  {
   "cell_type": "code",
   "execution_count": 31,
   "metadata": {},
   "outputs": [
    {
     "name": "stdout",
     "output_type": "stream",
     "text": [
      "|--- ind1 <= 0.50\n",
      "|   |--- lumo <= -2.13\n",
      "|   |   |--- class: 0\n",
      "|   |--- lumo >  -2.13\n",
      "|   |   |--- lumo <= -1.09\n",
      "|   |   |   |--- logp <= 2.04\n",
      "|   |   |   |   |--- logp <= 1.76\n",
      "|   |   |   |   |   |--- lumo <= -1.84\n",
      "|   |   |   |   |   |   |--- class: 0\n",
      "|   |   |   |   |   |--- lumo >  -1.84\n",
      "|   |   |   |   |   |   |--- logp <= 1.75\n",
      "|   |   |   |   |   |   |   |--- class: 1\n",
      "|   |   |   |   |   |   |--- logp >  1.75\n",
      "|   |   |   |   |   |   |   |--- class: 0\n",
      "|   |   |   |   |--- logp >  1.76\n",
      "|   |   |   |   |   |--- class: 1\n",
      "|   |   |   |--- logp >  2.04\n",
      "|   |   |   |   |--- logp <= 2.59\n",
      "|   |   |   |   |   |--- class: 0\n",
      "|   |   |   |   |--- logp >  2.59\n",
      "|   |   |   |   |   |--- logp <= 3.48\n",
      "|   |   |   |   |   |   |--- logp <= 2.78\n",
      "|   |   |   |   |   |   |   |--- lumo <= -1.43\n",
      "|   |   |   |   |   |   |   |   |--- class: 1\n",
      "|   |   |   |   |   |   |   |--- lumo >  -1.43\n",
      "|   |   |   |   |   |   |   |   |--- logp <= 2.71\n",
      "|   |   |   |   |   |   |   |   |   |--- lumo <= -1.12\n",
      "|   |   |   |   |   |   |   |   |   |   |--- class: 1\n",
      "|   |   |   |   |   |   |   |   |   |--- lumo >  -1.12\n",
      "|   |   |   |   |   |   |   |   |   |   |--- class: 0\n",
      "|   |   |   |   |   |   |   |   |--- logp >  2.71\n",
      "|   |   |   |   |   |   |   |   |   |--- class: 0\n",
      "|   |   |   |   |   |   |--- logp >  2.78\n",
      "|   |   |   |   |   |   |   |--- class: 1\n",
      "|   |   |   |   |   |--- logp >  3.48\n",
      "|   |   |   |   |   |   |--- lumo <= -1.29\n",
      "|   |   |   |   |   |   |   |--- class: 0\n",
      "|   |   |   |   |   |   |--- lumo >  -1.29\n",
      "|   |   |   |   |   |   |   |--- class: 1\n",
      "|   |   |--- lumo >  -1.09\n",
      "|   |   |   |--- class: 1\n",
      "|--- ind1 >  0.50\n",
      "|   |--- logp <= 6.62\n",
      "|   |   |--- lumo <= -1.01\n",
      "|   |   |   |--- class: 0\n",
      "|   |   |--- lumo >  -1.01\n",
      "|   |   |   |--- class: 1\n",
      "|   |--- logp >  6.62\n",
      "|   |   |--- class: 1\n",
      "\n"
     ]
    }
   ],
   "source": [
    "Rules = export_text(DesT,feature_names=Col_List)\n",
    "print(Rules)"
   ]
  },
  {
   "cell_type": "code",
   "execution_count": 32,
   "metadata": {},
   "outputs": [
    {
     "data": {
      "text/html": [
       "<style>#sk-container-id-2 {color: black;background-color: white;}#sk-container-id-2 pre{padding: 0;}#sk-container-id-2 div.sk-toggleable {background-color: white;}#sk-container-id-2 label.sk-toggleable__label {cursor: pointer;display: block;width: 100%;margin-bottom: 0;padding: 0.3em;box-sizing: border-box;text-align: center;}#sk-container-id-2 label.sk-toggleable__label-arrow:before {content: \"▸\";float: left;margin-right: 0.25em;color: #696969;}#sk-container-id-2 label.sk-toggleable__label-arrow:hover:before {color: black;}#sk-container-id-2 div.sk-estimator:hover label.sk-toggleable__label-arrow:before {color: black;}#sk-container-id-2 div.sk-toggleable__content {max-height: 0;max-width: 0;overflow: hidden;text-align: left;background-color: #f0f8ff;}#sk-container-id-2 div.sk-toggleable__content pre {margin: 0.2em;color: black;border-radius: 0.25em;background-color: #f0f8ff;}#sk-container-id-2 input.sk-toggleable__control:checked~div.sk-toggleable__content {max-height: 200px;max-width: 100%;overflow: auto;}#sk-container-id-2 input.sk-toggleable__control:checked~label.sk-toggleable__label-arrow:before {content: \"▾\";}#sk-container-id-2 div.sk-estimator input.sk-toggleable__control:checked~label.sk-toggleable__label {background-color: #d4ebff;}#sk-container-id-2 div.sk-label input.sk-toggleable__control:checked~label.sk-toggleable__label {background-color: #d4ebff;}#sk-container-id-2 input.sk-hidden--visually {border: 0;clip: rect(1px 1px 1px 1px);clip: rect(1px, 1px, 1px, 1px);height: 1px;margin: -1px;overflow: hidden;padding: 0;position: absolute;width: 1px;}#sk-container-id-2 div.sk-estimator {font-family: monospace;background-color: #f0f8ff;border: 1px dotted black;border-radius: 0.25em;box-sizing: border-box;margin-bottom: 0.5em;}#sk-container-id-2 div.sk-estimator:hover {background-color: #d4ebff;}#sk-container-id-2 div.sk-parallel-item::after {content: \"\";width: 100%;border-bottom: 1px solid gray;flex-grow: 1;}#sk-container-id-2 div.sk-label:hover label.sk-toggleable__label {background-color: #d4ebff;}#sk-container-id-2 div.sk-serial::before {content: \"\";position: absolute;border-left: 1px solid gray;box-sizing: border-box;top: 0;bottom: 0;left: 50%;z-index: 0;}#sk-container-id-2 div.sk-serial {display: flex;flex-direction: column;align-items: center;background-color: white;padding-right: 0.2em;padding-left: 0.2em;position: relative;}#sk-container-id-2 div.sk-item {position: relative;z-index: 1;}#sk-container-id-2 div.sk-parallel {display: flex;align-items: stretch;justify-content: center;background-color: white;position: relative;}#sk-container-id-2 div.sk-item::before, #sk-container-id-2 div.sk-parallel-item::before {content: \"\";position: absolute;border-left: 1px solid gray;box-sizing: border-box;top: 0;bottom: 0;left: 50%;z-index: -1;}#sk-container-id-2 div.sk-parallel-item {display: flex;flex-direction: column;z-index: 1;position: relative;background-color: white;}#sk-container-id-2 div.sk-parallel-item:first-child::after {align-self: flex-end;width: 50%;}#sk-container-id-2 div.sk-parallel-item:last-child::after {align-self: flex-start;width: 50%;}#sk-container-id-2 div.sk-parallel-item:only-child::after {width: 0;}#sk-container-id-2 div.sk-dashed-wrapped {border: 1px dashed gray;margin: 0 0.4em 0.5em 0.4em;box-sizing: border-box;padding-bottom: 0.4em;background-color: white;}#sk-container-id-2 div.sk-label label {font-family: monospace;font-weight: bold;display: inline-block;line-height: 1.2em;}#sk-container-id-2 div.sk-label-container {text-align: center;}#sk-container-id-2 div.sk-container {/* jupyter's `normalize.less` sets `[hidden] { display: none; }` but bootstrap.min.css set `[hidden] { display: none !important; }` so we also need the `!important` here to be able to override the default hidden behavior on the sphinx rendered scikit-learn.org. See: https://github.com/scikit-learn/scikit-learn/issues/21755 */display: inline-block !important;position: relative;}#sk-container-id-2 div.sk-text-repr-fallback {display: none;}</style><div id=\"sk-container-id-2\" class=\"sk-top-container\"><div class=\"sk-text-repr-fallback\"><pre>GaussianNB()</pre><b>In a Jupyter environment, please rerun this cell to show the HTML representation or trust the notebook. <br />On GitHub, the HTML representation is unable to render, please try loading this page with nbviewer.org.</b></div><div class=\"sk-container\" hidden><div class=\"sk-item\"><div class=\"sk-estimator sk-toggleable\"><input class=\"sk-toggleable__control sk-hidden--visually\" id=\"sk-estimator-id-2\" type=\"checkbox\" checked><label for=\"sk-estimator-id-2\" class=\"sk-toggleable__label sk-toggleable__label-arrow\">GaussianNB</label><div class=\"sk-toggleable__content\"><pre>GaussianNB()</pre></div></div></div></div></div>"
      ],
      "text/plain": [
       "GaussianNB()"
      ]
     },
     "execution_count": 32,
     "metadata": {},
     "output_type": "execute_result"
    }
   ],
   "source": [
    "nb = GaussianNB()\n",
    "nb.fit(X_train, y_train)"
   ]
  },
  {
   "cell_type": "code",
   "execution_count": 33,
   "metadata": {},
   "outputs": [
    {
     "name": "stdout",
     "output_type": "stream",
     "text": [
      "Score: 0.6564885496183206\n"
     ]
    }
   ],
   "source": [
    "print(\"Score:\",nb.score(X_train, y_train))"
   ]
  },
  {
   "cell_type": "code",
   "execution_count": 34,
   "metadata": {},
   "outputs": [
    {
     "data": {
      "text/plain": [
       "0.7192982456140351"
      ]
     },
     "execution_count": 34,
     "metadata": {},
     "output_type": "execute_result"
    }
   ],
   "source": [
    "y_pred = nb.predict(X_test)\n",
    "accuracy_score(y_test, y_pred)"
   ]
  },
  {
   "cell_type": "code",
   "execution_count": null,
   "metadata": {},
   "outputs": [],
   "source": []
  },
  {
   "cell_type": "code",
   "execution_count": null,
   "metadata": {},
   "outputs": [],
   "source": []
  },
  {
   "cell_type": "code",
   "execution_count": 11,
   "metadata": {
    "scrolled": false
   },
   "outputs": [
    {
     "name": "stdout",
     "output_type": "stream",
     "text": [
      "\n",
      "\n",
      "['active(A) :-   atm(A,B,h,3,C), C=0.144.', 'active(A) :-   ind1(A,1.0).', 'active(A) :-   atm(A,B,o,40,C), C= -0.383.', 'active(A) :-   atm(A,B,c,29,C), C=0.01.', 'active(A) :-   atm(A,B,c,16,C), C= -0.191.', 'active(d145).', 'active(A) :-   atm(A,B,c,27,C), C=0.012.', 'active(d172).', 'active(d37).', 'active(d146).']\n",
      "+----------+ Testing +----------+\n",
      "+---------------------+------------------+------------------+\n",
      "|       n = 38        | Positive(Actual) | Negative(Actual) |\n",
      "+=====================+==================+==================+\n",
      "| Positive(Predicted) | 21               | 2                |\n",
      "+---------------------+------------------+------------------+\n",
      "| Negative(Predicted) | 4                | 11               |\n",
      "+---------------------+------------------+------------------+\n",
      "+-------------+-------+\n",
      "|   Metric    |   #   |\n",
      "+=============+=======+\n",
      "| Accuracy    | 0.842 |\n",
      "+-------------+-------+\n",
      "| Precision   | 0.913 |\n",
      "+-------------+-------+\n",
      "| Sensitivity | 0.840 |\n",
      "+-------------+-------+\n",
      "| Specificity | 0.846 |\n",
      "+-------------+-------+\n",
      "| F1 Score    | 0.875 |\n",
      "+-------------+-------+\n",
      "['active(A) :-   ind1(A,1.0).', 'active(d26).', 'active(A) :-   bond(A,B,C,2), bond(A,C,D,1), ring_size_5(A,E).', 'active(A) :-   atm(A,B,c,29,C), C=0.014.', 'active(A) :-   atm(A,B,o,40,C), C= -0.384.', 'active(d75).', 'active(d140).', 'active(A) :-   atm(A,B,c,29,C), C=0.017.', 'active(d37).', 'active(d146).', 'active(d50).']\n",
      "+----------+ Testing +----------+\n",
      "+---------------------+------------------+------------------+\n",
      "|       n = 38        | Positive(Actual) | Negative(Actual) |\n",
      "+=====================+==================+==================+\n",
      "| Positive(Predicted) | 25               | 4                |\n",
      "+---------------------+------------------+------------------+\n",
      "| Negative(Predicted) | 0                | 9                |\n",
      "+---------------------+------------------+------------------+\n",
      "+-------------+-------+\n",
      "|   Metric    |   #   |\n",
      "+=============+=======+\n",
      "| Accuracy    | 0.895 |\n",
      "+-------------+-------+\n",
      "| Precision   | 0.862 |\n",
      "+-------------+-------+\n",
      "| Sensitivity | 1     |\n",
      "+-------------+-------+\n",
      "| Specificity | 0.692 |\n",
      "+-------------+-------+\n",
      "| F1 Score    | 0.926 |\n",
      "+-------------+-------+\n",
      "['active(A) :-   ind1(A,1.0).', 'active(d26).', 'active(A) :-   bond(A,B,C,2), bond(A,C,D,1), ring_size_5(A,E).', 'active(A) :-   atm(A,B,c,29,C), C=0.014.', 'active(A) :-   atm(A,B,c,26,C), C=0.315.', 'active(A) :-   atm(A,B,o,40,C), C= -0.383.', 'active(d21).', 'active(d145).', 'active(d37).', 'active(d146).', 'active(d50).']\n",
      "+----------+ Testing +----------+\n",
      "+---------------------+------------------+------------------+\n",
      "|       n = 38        | Positive(Actual) | Negative(Actual) |\n",
      "+=====================+==================+==================+\n",
      "| Positive(Predicted) | 25               | 0                |\n",
      "+---------------------+------------------+------------------+\n",
      "| Negative(Predicted) | 0                | 13               |\n",
      "+---------------------+------------------+------------------+\n",
      "+-------------+---+\n",
      "|   Metric    | # |\n",
      "+=============+===+\n",
      "| Accuracy    | 1 |\n",
      "+-------------+---+\n",
      "| Precision   | 1 |\n",
      "+-------------+---+\n",
      "| Sensitivity | 1 |\n",
      "+-------------+---+\n",
      "| Specificity | 1 |\n",
      "+-------------+---+\n",
      "| F1 Score    | 1 |\n",
      "+-------------+---+\n",
      "['active(A) :-   ind1(A,1.0).', 'active(d26).', 'active(A) :-   bond(A,B,C,2), bond(A,C,D,1), ring_size_5(A,E).', 'active(A) :-   atm(A,B,c,29,C), C=0.014.', 'active(A) :-   atm(A,B,o,40,C), C= -0.384.', 'active(A) :-   atm(A,B,c,29,C), C=0.01.', 'active(d145).', 'active(d140).', 'active(A) :-   atm(A,B,c,29,C), C=0.017.', 'active(d50).']\n",
      "+----------+ Testing +----------+\n",
      "+---------------------+------------------+------------------+\n",
      "|       n = 37        | Positive(Actual) | Negative(Actual) |\n",
      "+=====================+==================+==================+\n",
      "| Positive(Predicted) | 25               | 1                |\n",
      "+---------------------+------------------+------------------+\n",
      "| Negative(Predicted) | 0                | 11               |\n",
      "+---------------------+------------------+------------------+\n",
      "+-------------+-------+\n",
      "|   Metric    |   #   |\n",
      "+=============+=======+\n",
      "| Accuracy    | 0.973 |\n",
      "+-------------+-------+\n",
      "| Precision   | 0.962 |\n",
      "+-------------+-------+\n",
      "| Sensitivity | 1     |\n",
      "+-------------+-------+\n",
      "| Specificity | 0.917 |\n",
      "+-------------+-------+\n",
      "| F1 Score    | 0.980 |\n",
      "+-------------+-------+\n",
      "['active(A) :-   ind1(A,1.0).', 'active(d26).', 'active(A) :-   bond(A,B,C,2), bond(A,C,D,1), ring_size_5(A,E).', 'active(A) :-   atm(A,B,c,29,C), C=0.014.', 'active(A) :-   atm(A,B,o,40,C), C= -0.384.', 'active(A) :-   atm(A,B,c,29,C), C=0.01.', 'active(d145).', 'active(d140).', 'active(d171).', 'active(d37).', 'active(d146).']\n",
      "+----------+ Testing +----------+\n",
      "+---------------------+------------------+------------------+\n",
      "|       n = 37        | Positive(Actual) | Negative(Actual) |\n",
      "+=====================+==================+==================+\n",
      "| Positive(Predicted) | 25               | 3                |\n",
      "+---------------------+------------------+------------------+\n",
      "| Negative(Predicted) | 0                | 9                |\n",
      "+---------------------+------------------+------------------+\n",
      "+-------------+-------+\n",
      "|   Metric    |   #   |\n",
      "+=============+=======+\n",
      "| Accuracy    | 0.919 |\n",
      "+-------------+-------+\n",
      "| Precision   | 0.893 |\n",
      "+-------------+-------+\n",
      "| Sensitivity | 1     |\n",
      "+-------------+-------+\n",
      "| Specificity | 0.750 |\n",
      "+-------------+-------+\n",
      "| F1 Score    | 0.943 |\n",
      "+-------------+-------+\n",
      "\n",
      "\n",
      "\n",
      "\n",
      "['active(A) :-', '   ind1(A,1.0).', 'active(d26).', 'active(A) :-', '   bond(A,B,C,2), bond(A,C,D,1), ring_size_5(A,E).', 'active(A) :-', '   atm(A,B,c,29,C), C=0.014.', 'active(A) :-', '   atm(A,B,o,40,C), C= -0.384.', 'active(A) :-', '   atm(A,B,c,29,C), C=0.01.', 'active(d145).', 'active(d140).', 'active(d171).', 'active(d37).', 'active(d146).']\n",
      "+----------+ Testing +----------+\n",
      "+---------------------+------------------+------------------+\n",
      "|       n = 63        | Positive(Actual) | Negative(Actual) |\n",
      "+=====================+==================+==================+\n",
      "| Positive(Predicted) | 42               | 3                |\n",
      "+---------------------+------------------+------------------+\n",
      "| Negative(Predicted) | 0                | 18               |\n",
      "+---------------------+------------------+------------------+\n",
      "+-------------+-------+\n",
      "|   Metric    |   #   |\n",
      "+=============+=======+\n",
      "| Accuracy    | 0.952 |\n",
      "+-------------+-------+\n",
      "| Precision   | 0.933 |\n",
      "+-------------+-------+\n",
      "| Sensitivity | 1     |\n",
      "+-------------+-------+\n",
      "| Specificity | 0.857 |\n",
      "+-------------+-------+\n",
      "| F1 Score    | 0.966 |\n",
      "+-------------+-------+\n",
      "\n",
      "\n",
      "\n",
      "\n",
      "\n",
      "\n",
      "\n",
      "\n",
      "\n",
      "\n"
     ]
    },
    {
     "data": {
      "image/png": "[encoded data removed]",
      "text/plain": [
       "<Figure size 432x288 with 1 Axes>"
      ]
     },
     "metadata": {
      "needs_background": "light"
     },
     "output_type": "display_data"
    },
    {
     "data": {
      "text/plain": [
       "Text(0, 0.5, 'Learning time (Sec)')"
      ]
     },
     "execution_count": 11,
     "metadata": {},
     "output_type": "execute_result"
    },
    {
     "data": {
      "image/png": "[encoded data removed]",
      "text/plain": [
       "<Figure size 432x288 with 1 Axes>"
      ]
     },
     "metadata": {
      "needs_background": "light"
     },
     "output_type": "display_data"
    }
   ],
   "source": [
    "models = []\n",
    "BK_3 = 'b_3.pl'\n",
    "BK_4 =\"b_33.pl\"\n",
    "\n",
    "\n",
    "\n",
    "\n",
    "models.append(('Aleph',\"Aleph\", BK_3))\n",
    "models.append(('Metagol',\"Metagol\", BK_3))\n",
    "models.append(('Naive Bayes',\"Naive Bayes\" ,GaussianNB()))\n",
    "models.append(('Decision Tree', \"DescionTree\" ,DecisionTreeClassifier()))\n",
    "\n",
    "results1 = []\n",
    "names1 = []\n",
    "avg_time = []\n",
    "for name, label, model in models:\n",
    "    print(\"\\n\")\n",
    "    \n",
    "    if name==\"Aleph\":\n",
    "        model_1=aleph_cross_validation(model,  CV=5,  positive_example=\"pos_example_m.f\", \n",
    "                                       negative_example=\"neg_example_m.n\")\n",
    "        cv_results=model_1.accuracy\n",
    "    elif name==\"Metagol\":\n",
    "        #continue\n",
    "        model_1=metagol_learn(model, positive_example=\"pos_example_m.f\", \n",
    "                                       negative_example=\"neg_example_m.n\")\n",
    "        cv_results=model_1.accuracy       \n",
    "    else:\n",
    "        kfold = StratifiedKFold(n_splits=10, random_state=None)\n",
    "        cv_results = cross_val_score(model, X_train, y_train, cv=kfold, scoring='accuracy')\n",
    "    results1.append(cv_results)\n",
    "    avg_time.append(model_1.time_learn)\n",
    "    names1.append(label)\n",
    "    print(\"\\n\")\n",
    "pyplot.boxplot(results1, labels=names1)\n",
    "pyplot.title('Cross-validation of Aleph rules on Mutagenicity')\n",
    "pyplot.show()\n",
    "\n",
    "pyplot.plot(names1,avg_time)\n",
    "pyplot.xlabel(\"Type of BK\")\n",
    "pyplot.ylabel(\"Learning time (Sec)\")"
   ]
  },
  {
   "cell_type": "code",
   "execution_count": null,
   "metadata": {},
   "outputs": [],
   "source": []
  },
  {
   "cell_type": "code",
   "execution_count": null,
   "metadata": {},
   "outputs": [],
   "source": []
  }
 ],
 "metadata": {
  "kernelspec": {
   "display_name": "Python 3 (ipykernel)",
   "language": "python",
   "name": "python3"
  },
  "language_info": {
   "codemirror_mode": {
    "name": "ipython",
    "version": 3
   },
   "file_extension": ".py",
   "mimetype": "text/x-python",
   "name": "python",
   "nbconvert_exporter": "python",
   "pygments_lexer": "ipython3",
   "version": "3.10.14"
  }
 },
 "nbformat": 4,
 "nbformat_minor": 4
}
